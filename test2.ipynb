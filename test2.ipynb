{
 "cells": [
  {
   "cell_type": "code",
   "execution_count": null,
   "metadata": {},
   "outputs": [],
   "source": [
    "\"\"\"\n",
    "Part B. Productions\n",
    "\n",
    "<stmt> --> <block> | <if_stmt> | <while_loop> | <assignment>\n",
    "<block> --> `{`{<stmt> `;` }`}`\n",
    "<if_stmt>   -->  `maybe``(`<bool_stmt> `)`<stmt>[`probably ` <stmt>]\n",
    "<do_while> --> `bing` <block> <while_loop>\n",
    "<while_loop> -->  `bong``(`<bool_stmt>`)`<stmt>\n",
    "<for_loop> --> `turtle``(`<bool_stmt>`)`<block>\n",
    "<assignment> --> `set` `=` <expr>\n",
    "<expr> --> <term> {(`+`|`-`)<term>}\n",
    "<term> --> <factor>{(`*`|`/`|`%`)<factor>}\n",
    "<factor> --> `set` | `a` | `b`|`c`|`d`|`{ ` <expr> `}`\n",
    "\"\"\""
   ]
  },
  {
   "cell_type": "code",
   "execution_count": null,
   "metadata": {},
   "outputs": [],
   "source": [
    "class turtle_script:\n",
    "    def __init__(self,tokens:list(str)) -> None:\n",
    "        self.tokens = tokens\n",
    "        self.current = 0\n",
    "        self.currentToken = tokens[self.current]\n",
    "        pass\n",
    "    def getNextToken(self):\n",
    "        if self.current<len(self.tokens):\n",
    "            self.current+=1\n",
    "        self.currentToken = self.tokens[self.current]\n",
    "    def stmt(self):\n",
    "        # <stmt> --> <block> | <if_stmt> | <while_loop> | <assignment>\n",
    "        pass\n",
    "    def block(self):\n",
    "        # <block> --> `{`{<stmt> `;` }`}`\n",
    "        pass\n",
    "    def if_stmt(self):\n",
    "        # <if_stmt>   -->  `maybe``(`<bool_stmt> `)`<stmt>[`probably ` <stmt>]\n",
    "        pass\n",
    "    def do_while(self):\n",
    "        # <do_while> --> `bing` <block> <while_loop>\n",
    "        pass\n",
    "    def while_loop(self):\n",
    "        # <while_loop> -->  `bong``(`<bool_stmt>`)`<stmt>\n",
    "        pass\n",
    "    def for_loop(self):\n",
    "        # <for_loop> --> `turtle``(`<bool_stmt>`)`<block>\n",
    "        pass\n",
    "    def assignment(self):\n",
    "        # <assignment> --> `set` `=` <expr>\n",
    "        pass\n",
    "    def expr(self):\n",
    "        # <expr> --> <term> {(`+`|`-`)<term>}\n",
    "        pass\n",
    "    def term(self):\n",
    "        # <term> --> <factor>{(`*`|`/`|`%`)<factor>}\n",
    "        pass\n",
    "    def factor(self):\n",
    "        # <factor> --> `set` | `a` | `b`|`c`|`d`|`{ ` <expr> `}`\n",
    "        pass\n",
    "    def error(self):\n",
    "        pass\n",
    "    \n",
    "  \n"
   ]
  }
 ],
 "metadata": {
  "kernelspec": {
   "display_name": "Python 3.10.8 64-bit",
   "language": "python",
   "name": "python3"
  },
  "language_info": {
   "name": "python",
   "version": "3.10.8"
  },
  "orig_nbformat": 4,
  "vscode": {
   "interpreter": {
    "hash": "aee8b7b246df8f9039afb4144a1f6fd8d2ca17a180786b69acc140d282b71a49"
   }
  }
 },
 "nbformat": 4,
 "nbformat_minor": 2
}
